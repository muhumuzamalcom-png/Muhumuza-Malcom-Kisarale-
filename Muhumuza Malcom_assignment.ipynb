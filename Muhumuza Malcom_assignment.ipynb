{
 "cells": [
  {
   "cell_type": "code",
   "execution_count": 2,
   "id": "548b1266",
   "metadata": {},
   "outputs": [
    {
     "name": "stdout",
     "output_type": "stream",
     "text": [
      "MUHUMUZA MALCOLM\n"
     ]
    }
   ],
   "source": [
    "# Full name in uppercase\n",
    "full_name = \"Muhumuza Malcolm\"   # Replace with your own name\n",
    "print(full_name.upper())"
   ]
  },
  {
   "cell_type": "code",
   "execution_count": 3,
   "id": "05ddf599",
   "metadata": {},
   "outputs": [
    {
     "name": "stdout",
     "output_type": "stream",
     "text": [
      "['Apple', 'Banana', 'Orange', 'Mango', 'Grapes', 'Pineapple']\n"
     ]
    }
   ],
   "source": [
    "# List of fruits\n",
    "fruits = [\"Apple\", \"Banana\", \"Orange\", \"Mango\", \"Grapes\"]\n",
    "\n",
    "# Add a new fruit\n",
    "fruits.append(\"Pineapple\")\n",
    "\n",
    "# Display updated list\n",
    "print(fruits)"
   ]
  },
  {
   "cell_type": "code",
   "execution_count": 6,
   "id": "1711e2e3",
   "metadata": {},
   "outputs": [
    {
     "name": "stdout",
     "output_type": "stream",
     "text": [
      "Muhumuza Malcom\n"
     ]
    }
   ],
   "source": [
    "# Student dictionary\n",
    "student = {\n",
    "    \"name\": \"Muhumuza Malcom\",\n",
    "    \"age\": 22,\n",
    "    \"course\": \"Data Science\"\n",
    "}\n",
    "\n",
    "# Print student's name\n",
    "print(student[\"name\"])"
   ]
  },
  {
   "cell_type": "code",
   "execution_count": 7,
   "id": "e221dcdf",
   "metadata": {},
   "outputs": [
    {
     "name": "stdout",
     "output_type": "stream",
     "text": [
      "D\n"
     ]
    }
   ],
   "source": [
    "# String example\n",
    "text = \"DataScience\"\n",
    "\n",
    "# Print first character\n",
    "print(text[0])"
   ]
  },
  {
   "cell_type": "code",
   "execution_count": 8,
   "id": "664c5a98",
   "metadata": {},
   "outputs": [
    {
     "name": "stdout",
     "output_type": "stream",
     "text": [
      "I AM LEARNING PYTHON USING JUPYTER NOTEBOOK\n"
     ]
    }
   ],
   "source": [
    "# Convert sentence to uppercase\n",
    "sentence = \"i am learning python using jupyter notebook\"\n",
    "print(sentence.upper())"
   ]
  },
  {
   "cell_type": "code",
   "execution_count": null,
   "id": "91edd4cc-f9ab-4653-9b2d-9f5bd3a7e51e",
   "metadata": {},
   "outputs": [],
   "source": []
  }
 ],
 "metadata": {
  "kernelspec": {
   "display_name": "Python 3 (ipykernel)",
   "language": "python",
   "name": "python3"
  },
  "language_info": {
   "codemirror_mode": {
    "name": "ipython",
    "version": 3
   },
   "file_extension": ".py",
   "mimetype": "text/x-python",
   "name": "python",
   "nbconvert_exporter": "python",
   "pygments_lexer": "ipython3",
   "version": "3.13.5"
  }
 },
 "nbformat": 4,
 "nbformat_minor": 5
}
