{
 "cells": [
  {
   "cell_type": "code",
   "execution_count": 3,
   "id": "30a42498",
   "metadata": {},
   "outputs": [
    {
     "name": "stdout",
     "output_type": "stream",
     "text": [
      "Oops! My hair is dark no more\n"
     ]
    }
   ],
   "source": [
    "# Age check program\n",
    "\n",
    "age = 64   # You can change this value to test different ages\n",
    "\n",
    "if age < 20:\n",
    "    print(\"You are pretty young\")\n",
    "elif age >= 20 and age < 40:\n",
    "    print(\"The journey has just begun\")\n",
    "elif age >= 40 and age < 60:\n",
    "    print(\"Huh! Life is pretty good here\")\n",
    "elif age >= 60 and age < 80:\n",
    "    print(\"Oops! My hair is dark no more\")\n",
    "else:\n",
    "    print(\"My eyes have seen it all\")\n"
   ]
  },
  {
   "cell_type": "code",
   "execution_count": null,
   "id": "27a96bc7-fae7-4aa1-af60-c25837590f01",
   "metadata": {},
   "outputs": [],
   "source": []
  }
 ],
 "metadata": {
  "kernelspec": {
   "display_name": "Python 3 (ipykernel)",
   "language": "python",
   "name": "python3"
  },
  "language_info": {
   "codemirror_mode": {
    "name": "ipython",
    "version": 3
   },
   "file_extension": ".py",
   "mimetype": "text/x-python",
   "name": "python",
   "nbconvert_exporter": "python",
   "pygments_lexer": "ipython3",
   "version": "3.13.5"
  }
 },
 "nbformat": 4,
 "nbformat_minor": 5
}
